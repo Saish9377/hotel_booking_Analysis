{
 "cells": [
  {
   "cell_type": "code",
   "execution_count": 1,
   "id": "20fcf5bf-6b98-4d04-97bc-2d7b3d566ba0",
   "metadata": {},
   "outputs": [
    {
     "name": "stdout",
     "output_type": "stream",
     "text": [
      "CPU times: total: 3.3 s\n",
      "Wall time: 16.7 s\n"
     ]
    }
   ],
   "source": [
    "%%time\n",
    "# 📦 Import Libraries\n",
    "import pandas as pd\n",
    "import numpy as np\n",
    "import matplotlib.pyplot as plt\n",
    "import seaborn as sns\n",
    "import warnings\n",
    "\n",
    "# For better visual display\n",
    "sns.set(style='whitegrid')\n",
    "plt.rcParams['figure.figsize'] = (10, 6)\n",
    "warnings.filterwarnings(\"ignore\")\n",
    "warnings.filterwarnings(\"ignore\", category=FutureWarning)\n"
   ]
  },
  {
   "cell_type": "code",
   "execution_count": 2,
   "id": "6149ce53-4e6b-42a5-9919-bea059c04971",
   "metadata": {},
   "outputs": [
    {
     "name": "stdout",
     "output_type": "stream",
     "text": [
      "Shape: (48895, 16)\n",
      "CPU times: total: 266 ms\n",
      "Wall time: 318 ms\n"
     ]
    },
    {
     "data": {
      "text/html": [
       "<div>\n",
       "<style scoped>\n",
       "    .dataframe tbody tr th:only-of-type {\n",
       "        vertical-align: middle;\n",
       "    }\n",
       "\n",
       "    .dataframe tbody tr th {\n",
       "        vertical-align: top;\n",
       "    }\n",
       "\n",
       "    .dataframe thead th {\n",
       "        text-align: right;\n",
       "    }\n",
       "</style>\n",
       "<table border=\"1\" class=\"dataframe\">\n",
       "  <thead>\n",
       "    <tr style=\"text-align: right;\">\n",
       "      <th></th>\n",
       "      <th>id</th>\n",
       "      <th>name</th>\n",
       "      <th>host_id</th>\n",
       "      <th>host_name</th>\n",
       "      <th>neighbourhood_group</th>\n",
       "      <th>neighbourhood</th>\n",
       "      <th>latitude</th>\n",
       "      <th>longitude</th>\n",
       "      <th>room_type</th>\n",
       "      <th>price</th>\n",
       "      <th>minimum_nights</th>\n",
       "      <th>number_of_reviews</th>\n",
       "      <th>last_review</th>\n",
       "      <th>reviews_per_month</th>\n",
       "      <th>calculated_host_listings_count</th>\n",
       "      <th>availability_365</th>\n",
       "    </tr>\n",
       "  </thead>\n",
       "  <tbody>\n",
       "    <tr>\n",
       "      <th>0</th>\n",
       "      <td>2539</td>\n",
       "      <td>Clean &amp; quiet apt home by the park</td>\n",
       "      <td>2787</td>\n",
       "      <td>John</td>\n",
       "      <td>Brooklyn</td>\n",
       "      <td>Kensington</td>\n",
       "      <td>40.64749</td>\n",
       "      <td>-73.97237</td>\n",
       "      <td>Private room</td>\n",
       "      <td>149</td>\n",
       "      <td>1</td>\n",
       "      <td>9</td>\n",
       "      <td>2018-10-19</td>\n",
       "      <td>0.21</td>\n",
       "      <td>6</td>\n",
       "      <td>365</td>\n",
       "    </tr>\n",
       "    <tr>\n",
       "      <th>1</th>\n",
       "      <td>2595</td>\n",
       "      <td>Skylit Midtown Castle</td>\n",
       "      <td>2845</td>\n",
       "      <td>Jennifer</td>\n",
       "      <td>Manhattan</td>\n",
       "      <td>Midtown</td>\n",
       "      <td>40.75362</td>\n",
       "      <td>-73.98377</td>\n",
       "      <td>Entire home/apt</td>\n",
       "      <td>225</td>\n",
       "      <td>1</td>\n",
       "      <td>45</td>\n",
       "      <td>2019-05-21</td>\n",
       "      <td>0.38</td>\n",
       "      <td>2</td>\n",
       "      <td>355</td>\n",
       "    </tr>\n",
       "    <tr>\n",
       "      <th>2</th>\n",
       "      <td>3647</td>\n",
       "      <td>THE VILLAGE OF HARLEM....NEW YORK !</td>\n",
       "      <td>4632</td>\n",
       "      <td>Elisabeth</td>\n",
       "      <td>Manhattan</td>\n",
       "      <td>Harlem</td>\n",
       "      <td>40.80902</td>\n",
       "      <td>-73.94190</td>\n",
       "      <td>Private room</td>\n",
       "      <td>150</td>\n",
       "      <td>3</td>\n",
       "      <td>0</td>\n",
       "      <td>NaN</td>\n",
       "      <td>NaN</td>\n",
       "      <td>1</td>\n",
       "      <td>365</td>\n",
       "    </tr>\n",
       "  </tbody>\n",
       "</table>\n",
       "</div>"
      ],
      "text/plain": [
       "     id                                 name  host_id  host_name  \\\n",
       "0  2539   Clean & quiet apt home by the park     2787       John   \n",
       "1  2595                Skylit Midtown Castle     2845   Jennifer   \n",
       "2  3647  THE VILLAGE OF HARLEM....NEW YORK !     4632  Elisabeth   \n",
       "\n",
       "  neighbourhood_group neighbourhood  latitude  longitude        room_type  \\\n",
       "0            Brooklyn    Kensington  40.64749  -73.97237     Private room   \n",
       "1           Manhattan       Midtown  40.75362  -73.98377  Entire home/apt   \n",
       "2           Manhattan        Harlem  40.80902  -73.94190     Private room   \n",
       "\n",
       "   price  minimum_nights  number_of_reviews last_review  reviews_per_month  \\\n",
       "0    149               1                  9  2018-10-19               0.21   \n",
       "1    225               1                 45  2019-05-21               0.38   \n",
       "2    150               3                  0         NaN                NaN   \n",
       "\n",
       "   calculated_host_listings_count  availability_365  \n",
       "0                               6               365  \n",
       "1                               2               355  \n",
       "2                               1               365  "
      ]
     },
     "execution_count": 2,
     "metadata": {},
     "output_type": "execute_result"
    }
   ],
   "source": [
    "%%time\n",
    "df = pd.read_csv(r'C:\\Users\\saish\\Downloads\\Project\\Data Analytics\\DA1\\AB_NYC_2019.CSV')\n",
    "print(\"Shape:\", df.shape)\n",
    "df.head(3)"
   ]
  },
  {
   "cell_type": "markdown",
   "id": "6bd5c0bb-f6d7-4768-b31d-da0f2b376e25",
   "metadata": {},
   "source": [
    "# Handling Missing Values"
   ]
  },
  {
   "cell_type": "code",
   "execution_count": 3,
   "id": "e8a8e498-c514-4a32-89fe-dc3b06ca6c8f",
   "metadata": {},
   "outputs": [
    {
     "name": "stdout",
     "output_type": "stream",
     "text": [
      "\n",
      "🔍 Data Types and Non-Null Counts:\n",
      "<class 'pandas.core.frame.DataFrame'>\n",
      "RangeIndex: 48895 entries, 0 to 48894\n",
      "Data columns (total 16 columns):\n",
      " #   Column                          Non-Null Count  Dtype  \n",
      "---  ------                          --------------  -----  \n",
      " 0   id                              48895 non-null  int64  \n",
      " 1   name                            48879 non-null  object \n",
      " 2   host_id                         48895 non-null  int64  \n",
      " 3   host_name                       48874 non-null  object \n",
      " 4   neighbourhood_group             48895 non-null  object \n",
      " 5   neighbourhood                   48895 non-null  object \n",
      " 6   latitude                        48895 non-null  float64\n",
      " 7   longitude                       48895 non-null  float64\n",
      " 8   room_type                       48895 non-null  object \n",
      " 9   price                           48895 non-null  int64  \n",
      " 10  minimum_nights                  48895 non-null  int64  \n",
      " 11  number_of_reviews               48895 non-null  int64  \n",
      " 12  last_review                     38843 non-null  object \n",
      " 13  reviews_per_month               38843 non-null  float64\n",
      " 14  calculated_host_listings_count  48895 non-null  int64  \n",
      " 15  availability_365                48895 non-null  int64  \n",
      "dtypes: float64(3), int64(7), object(6)\n",
      "memory usage: 6.0+ MB\n",
      "None\n",
      "\n",
      "❗ Missing Values per Column:\n",
      "id                                    0\n",
      "name                                 16\n",
      "host_id                               0\n",
      "host_name                            21\n",
      "neighbourhood_group                   0\n",
      "neighbourhood                         0\n",
      "latitude                              0\n",
      "longitude                             0\n",
      "room_type                             0\n",
      "price                                 0\n",
      "minimum_nights                        0\n",
      "number_of_reviews                     0\n",
      "last_review                       10052\n",
      "reviews_per_month                 10052\n",
      "calculated_host_listings_count        0\n",
      "availability_365                      0\n",
      "dtype: int64\n",
      "CPU times: total: 109 ms\n",
      "Wall time: 109 ms\n"
     ]
    }
   ],
   "source": [
    "%%time\n",
    "# Inspect data types and non-null values\n",
    "# Check data types and non-null counts\n",
    "print(\"\\n🔍 Data Types and Non-Null Counts:\")\n",
    "print(df.info())\n",
    "\n",
    "# Optional: Count of missing values per column\n",
    "print(\"\\n❗ Missing Values per Column:\")\n",
    "print(df.isnull().sum())"
   ]
  },
  {
   "cell_type": "code",
   "execution_count": 4,
   "id": "afb4b272-85c1-4df2-86d4-5ad1ced0e176",
   "metadata": {},
   "outputs": [
    {
     "name": "stdout",
     "output_type": "stream",
     "text": [
      "CPU times: total: 31.2 ms\n",
      "Wall time: 32.1 ms\n"
     ]
    }
   ],
   "source": [
    "%%time\n",
    "df['name'].fillna('Unknown', inplace=True)\n",
    "df['host_name'].fillna('Unknown', inplace=True)\n",
    "df['last_review'].fillna(pd.to_datetime('2000-01-01'), inplace=True)\n",
    "df['reviews_per_month'].fillna(0.0, inplace=True)\n"
   ]
  },
  {
   "cell_type": "code",
   "execution_count": 5,
   "id": "b7791aa0-8948-4ce5-8b57-eb521316be2f",
   "metadata": {},
   "outputs": [
    {
     "data": {
      "text/plain": [
       "name                 0\n",
       "host_name            0\n",
       "last_review          0\n",
       "reviews_per_month    0\n",
       "dtype: int64"
      ]
     },
     "execution_count": 5,
     "metadata": {},
     "output_type": "execute_result"
    }
   ],
   "source": [
    "df[['name', 'host_name', 'last_review', 'reviews_per_month']].isnull().sum()"
   ]
  },
  {
   "cell_type": "markdown",
   "id": "6c3bfb22-e27d-4756-9172-5d9172ec7ea6",
   "metadata": {},
   "source": [
    "# Correcting Data Types"
   ]
  },
  {
   "cell_type": "code",
   "execution_count": 6,
   "id": "46ee1a2f-51bc-46d9-97e2-e247b9a221be",
   "metadata": {},
   "outputs": [
    {
     "data": {
      "text/html": [
       "<div>\n",
       "<style scoped>\n",
       "    .dataframe tbody tr th:only-of-type {\n",
       "        vertical-align: middle;\n",
       "    }\n",
       "\n",
       "    .dataframe tbody tr th {\n",
       "        vertical-align: top;\n",
       "    }\n",
       "\n",
       "    .dataframe thead th {\n",
       "        text-align: right;\n",
       "    }\n",
       "</style>\n",
       "<table border=\"1\" class=\"dataframe\">\n",
       "  <thead>\n",
       "    <tr style=\"text-align: right;\">\n",
       "      <th></th>\n",
       "      <th>id</th>\n",
       "      <th>host_id</th>\n",
       "      <th>latitude</th>\n",
       "      <th>longitude</th>\n",
       "      <th>price</th>\n",
       "      <th>minimum_nights</th>\n",
       "      <th>number_of_reviews</th>\n",
       "      <th>reviews_per_month</th>\n",
       "      <th>calculated_host_listings_count</th>\n",
       "      <th>availability_365</th>\n",
       "    </tr>\n",
       "  </thead>\n",
       "  <tbody>\n",
       "    <tr>\n",
       "      <th>count</th>\n",
       "      <td>4.889500e+04</td>\n",
       "      <td>4.889500e+04</td>\n",
       "      <td>48895.000000</td>\n",
       "      <td>48895.000000</td>\n",
       "      <td>48895.000000</td>\n",
       "      <td>48895.000000</td>\n",
       "      <td>48895.000000</td>\n",
       "      <td>48895.000000</td>\n",
       "      <td>48895.000000</td>\n",
       "      <td>48895.000000</td>\n",
       "    </tr>\n",
       "    <tr>\n",
       "      <th>mean</th>\n",
       "      <td>1.901714e+07</td>\n",
       "      <td>6.762001e+07</td>\n",
       "      <td>40.728949</td>\n",
       "      <td>-73.952170</td>\n",
       "      <td>152.720687</td>\n",
       "      <td>7.029962</td>\n",
       "      <td>23.274466</td>\n",
       "      <td>1.090910</td>\n",
       "      <td>7.143982</td>\n",
       "      <td>112.781327</td>\n",
       "    </tr>\n",
       "    <tr>\n",
       "      <th>std</th>\n",
       "      <td>1.098311e+07</td>\n",
       "      <td>7.861097e+07</td>\n",
       "      <td>0.054530</td>\n",
       "      <td>0.046157</td>\n",
       "      <td>240.154170</td>\n",
       "      <td>20.510550</td>\n",
       "      <td>44.550582</td>\n",
       "      <td>1.597283</td>\n",
       "      <td>32.952519</td>\n",
       "      <td>131.622289</td>\n",
       "    </tr>\n",
       "    <tr>\n",
       "      <th>min</th>\n",
       "      <td>2.539000e+03</td>\n",
       "      <td>2.438000e+03</td>\n",
       "      <td>40.499790</td>\n",
       "      <td>-74.244420</td>\n",
       "      <td>0.000000</td>\n",
       "      <td>1.000000</td>\n",
       "      <td>0.000000</td>\n",
       "      <td>0.000000</td>\n",
       "      <td>1.000000</td>\n",
       "      <td>0.000000</td>\n",
       "    </tr>\n",
       "    <tr>\n",
       "      <th>25%</th>\n",
       "      <td>9.471945e+06</td>\n",
       "      <td>7.822033e+06</td>\n",
       "      <td>40.690100</td>\n",
       "      <td>-73.983070</td>\n",
       "      <td>69.000000</td>\n",
       "      <td>1.000000</td>\n",
       "      <td>1.000000</td>\n",
       "      <td>0.040000</td>\n",
       "      <td>1.000000</td>\n",
       "      <td>0.000000</td>\n",
       "    </tr>\n",
       "    <tr>\n",
       "      <th>50%</th>\n",
       "      <td>1.967728e+07</td>\n",
       "      <td>3.079382e+07</td>\n",
       "      <td>40.723070</td>\n",
       "      <td>-73.955680</td>\n",
       "      <td>106.000000</td>\n",
       "      <td>3.000000</td>\n",
       "      <td>5.000000</td>\n",
       "      <td>0.370000</td>\n",
       "      <td>1.000000</td>\n",
       "      <td>45.000000</td>\n",
       "    </tr>\n",
       "    <tr>\n",
       "      <th>75%</th>\n",
       "      <td>2.915218e+07</td>\n",
       "      <td>1.074344e+08</td>\n",
       "      <td>40.763115</td>\n",
       "      <td>-73.936275</td>\n",
       "      <td>175.000000</td>\n",
       "      <td>5.000000</td>\n",
       "      <td>24.000000</td>\n",
       "      <td>1.580000</td>\n",
       "      <td>2.000000</td>\n",
       "      <td>227.000000</td>\n",
       "    </tr>\n",
       "    <tr>\n",
       "      <th>max</th>\n",
       "      <td>3.648724e+07</td>\n",
       "      <td>2.743213e+08</td>\n",
       "      <td>40.913060</td>\n",
       "      <td>-73.712990</td>\n",
       "      <td>10000.000000</td>\n",
       "      <td>1250.000000</td>\n",
       "      <td>629.000000</td>\n",
       "      <td>58.500000</td>\n",
       "      <td>327.000000</td>\n",
       "      <td>365.000000</td>\n",
       "    </tr>\n",
       "  </tbody>\n",
       "</table>\n",
       "</div>"
      ],
      "text/plain": [
       "                 id       host_id      latitude     longitude         price  \\\n",
       "count  4.889500e+04  4.889500e+04  48895.000000  48895.000000  48895.000000   \n",
       "mean   1.901714e+07  6.762001e+07     40.728949    -73.952170    152.720687   \n",
       "std    1.098311e+07  7.861097e+07      0.054530      0.046157    240.154170   \n",
       "min    2.539000e+03  2.438000e+03     40.499790    -74.244420      0.000000   \n",
       "25%    9.471945e+06  7.822033e+06     40.690100    -73.983070     69.000000   \n",
       "50%    1.967728e+07  3.079382e+07     40.723070    -73.955680    106.000000   \n",
       "75%    2.915218e+07  1.074344e+08     40.763115    -73.936275    175.000000   \n",
       "max    3.648724e+07  2.743213e+08     40.913060    -73.712990  10000.000000   \n",
       "\n",
       "       minimum_nights  number_of_reviews  reviews_per_month  \\\n",
       "count    48895.000000       48895.000000       48895.000000   \n",
       "mean         7.029962          23.274466           1.090910   \n",
       "std         20.510550          44.550582           1.597283   \n",
       "min          1.000000           0.000000           0.000000   \n",
       "25%          1.000000           1.000000           0.040000   \n",
       "50%          3.000000           5.000000           0.370000   \n",
       "75%          5.000000          24.000000           1.580000   \n",
       "max       1250.000000         629.000000          58.500000   \n",
       "\n",
       "       calculated_host_listings_count  availability_365  \n",
       "count                    48895.000000      48895.000000  \n",
       "mean                         7.143982        112.781327  \n",
       "std                         32.952519        131.622289  \n",
       "min                          1.000000          0.000000  \n",
       "25%                          1.000000          0.000000  \n",
       "50%                          1.000000         45.000000  \n",
       "75%                          2.000000        227.000000  \n",
       "max                        327.000000        365.000000  "
      ]
     },
     "execution_count": 6,
     "metadata": {},
     "output_type": "execute_result"
    }
   ],
   "source": [
    "df.describe()"
   ]
  },
  {
   "cell_type": "code",
   "execution_count": 7,
   "id": "d4fbb258-c0dc-4590-9f54-7a9bc95e9535",
   "metadata": {},
   "outputs": [
    {
     "data": {
      "text/plain": [
       "id                                  int64\n",
       "name                               object\n",
       "host_id                             int64\n",
       "host_name                          object\n",
       "neighbourhood_group                object\n",
       "neighbourhood                      object\n",
       "latitude                          float64\n",
       "longitude                         float64\n",
       "room_type                          object\n",
       "price                               int64\n",
       "minimum_nights                      int64\n",
       "number_of_reviews                   int64\n",
       "last_review                        object\n",
       "reviews_per_month                 float64\n",
       "calculated_host_listings_count      int64\n",
       "availability_365                    int64\n",
       "dtype: object"
      ]
     },
     "execution_count": 7,
     "metadata": {},
     "output_type": "execute_result"
    }
   ],
   "source": [
    "# Display data types of all columns\n",
    "df.dtypes"
   ]
  },
  {
   "cell_type": "code",
   "execution_count": 8,
   "id": "d4941043-c755-4200-9fd6-c2061e20b1ef",
   "metadata": {},
   "outputs": [],
   "source": [
    "df['last_review'] = pd.to_datetime(df['last_review'], errors='coerce')\n"
   ]
  },
  {
   "cell_type": "code",
   "execution_count": 9,
   "id": "12df1fb6-4d3c-4480-976f-246aed19ca9d",
   "metadata": {},
   "outputs": [
    {
     "data": {
      "text/plain": [
       "id                                         int64\n",
       "name                                      object\n",
       "host_id                                    int64\n",
       "host_name                                 object\n",
       "neighbourhood_group                       object\n",
       "neighbourhood                             object\n",
       "latitude                                 float64\n",
       "longitude                                float64\n",
       "room_type                                 object\n",
       "price                                      int64\n",
       "minimum_nights                             int64\n",
       "number_of_reviews                          int64\n",
       "last_review                       datetime64[ns]\n",
       "reviews_per_month                        float64\n",
       "calculated_host_listings_count             int64\n",
       "availability_365                           int64\n",
       "dtype: object"
      ]
     },
     "execution_count": 9,
     "metadata": {},
     "output_type": "execute_result"
    }
   ],
   "source": [
    "# Display data types of all columns\n",
    "df.dtypes"
   ]
  },
  {
   "cell_type": "markdown",
   "id": "8729c2c3-3f5b-4647-9bff-eb48c4f0d497",
   "metadata": {},
   "source": [
    "#  duplicate rows"
   ]
  },
  {
   "cell_type": "code",
   "execution_count": 10,
   "id": "27af85ec-02ba-4eb0-9746-f4c2a11ab49e",
   "metadata": {},
   "outputs": [
    {
     "name": "stdout",
     "output_type": "stream",
     "text": [
      "Number of duplicate rows: 0\n"
     ]
    }
   ],
   "source": [
    "# Check for any duplicate rows\n",
    "duplicate_rows = df[df.duplicated()]\n",
    "print(\"Number of duplicate rows:\", duplicate_rows.shape[0])\n"
   ]
  },
  {
   "cell_type": "markdown",
   "id": "899150c4-3484-4673-b32e-b4ae84865513",
   "metadata": {},
   "source": [
    "# Handling Outliers"
   ]
  },
  {
   "cell_type": "code",
   "execution_count": 11,
   "id": "c547f4a4-6d21-4361-ae3f-f04f7dd876ed",
   "metadata": {},
   "outputs": [
    {
     "data": {
      "image/png": "[encoded data removed]",
      "text/plain": [
       "<Figure size 1000x400 with 1 Axes>"
      ]
     },
     "metadata": {},
     "output_type": "display_data"
    }
   ],
   "source": [
    "plt.figure(figsize=(10, 4))\n",
    "sns.boxplot(x=df['price'])\n",
    "plt.title(\"Boxplot of Price\")\n",
    "plt.show()"
   ]
  },
  {
   "cell_type": "code",
   "execution_count": 12,
   "id": "76cd6f89-f14e-4bcb-911e-5f0b013d08ab",
   "metadata": {},
   "outputs": [],
   "source": [
    "def remove_outliers_iqr(df, column):\n",
    "    Q1 = df[column].quantile(0.25)\n",
    "    Q3 = df[column].quantile(0.75)\n",
    "    IQR = Q3 - Q1\n",
    "    lower_bound = Q1 - 1.5 * IQR\n",
    "    upper_bound = Q3 + 1.5 * IQR\n",
    "    return df[(df[column] >= lower_bound) & (df[column] <= upper_bound)]\n"
   ]
  },
  {
   "cell_type": "code",
   "execution_count": 13,
   "id": "db41402b-10a4-4f98-810d-422c29679f0e",
   "metadata": {},
   "outputs": [],
   "source": [
    "df = remove_outliers_iqr(df, 'price')\n",
    "df = remove_outliers_iqr(df, 'minimum_nights')\n"
   ]
  },
  {
   "cell_type": "code",
   "execution_count": 14,
   "id": "7c851971-9012-4f2d-8c4a-fe4231608c70",
   "metadata": {},
   "outputs": [],
   "source": [
    "def cap_outliers(df, column):\n",
    "    lower_cap = df[column].quantile(0.01)\n",
    "    upper_cap = df[column].quantile(0.99)\n",
    "    df[column] = df[column].clip(lower_cap, upper_cap)\n",
    "    return df\n"
   ]
  },
  {
   "cell_type": "code",
   "execution_count": 15,
   "id": "452e0cc9-d112-44a8-a351-05d14e9e61ef",
   "metadata": {},
   "outputs": [],
   "source": [
    "df = cap_outliers(df, 'price')\n"
   ]
  },
  {
   "cell_type": "code",
   "execution_count": 16,
   "id": "266f5dc1-1cf2-4807-bc5b-1bb1b34aef7e",
   "metadata": {},
   "outputs": [
    {
     "name": "stdout",
     "output_type": "stream",
     "text": [
      "count    39738.000000\n",
      "mean       118.910237\n",
      "std         66.684215\n",
      "min         30.000000\n",
      "25%         65.000000\n",
      "50%        100.000000\n",
      "75%        154.750000\n",
      "max        300.000000\n",
      "Name: price, dtype: float64\n"
     ]
    },
    {
     "data": {
      "image/png": "[encoded data removed]",
      "text/plain": [
       "<Figure size 1000x600 with 1 Axes>"
      ]
     },
     "metadata": {},
     "output_type": "display_data"
    }
   ],
   "source": [
    "print(df['price'].describe())\n",
    "sns.boxplot(x=df['price'])\n",
    "plt.show()\n"
   ]
  },
  {
   "cell_type": "markdown",
   "id": "bea0ec98-c43f-4054-bd58-4d62831abc3a",
   "metadata": {},
   "source": [
    "# finally  clean data set "
   ]
  },
  {
   "cell_type": "markdown",
   "id": "261bd225-940b-4161-8599-b77e9e53a505",
   "metadata": {},
   "source": [
    "# Questions"
   ]
  },
  {
   "cell_type": "markdown",
   "id": "bd63f9e9-0e63-4ba8-8f0a-5372af17c8e3",
   "metadata": {},
   "source": [
    "\n",
    "1 In which Neighbourhood group there is maximum number of properties listed ?\n",
    "2 Which host has maximum number of properties listed ?\n",
    "3 Which host has maximum properties listed in neighbourhood groups having maximum properties listed ?\n",
    "4 What is the average price in different properties listed ?\n",
    "5 What may be the reason of having high price in that neighbourhood groups ?\n",
    "6 What is the most prefered room type in the every neighbourhood groups ?\n",
    "7 Total availability of properties having different room type?\n",
    "8 Which one is the busiest host ?\n",
    "9 Which property has maximum number of reviews ?"
   ]
  },
  {
   "cell_type": "code",
   "execution_count": 17,
   "id": "50aca9be-aec0-4a86-8a25-5a4385c52b62",
   "metadata": {},
   "outputs": [
    {
     "name": "stdin",
     "output_type": "stream",
     "text": [
      "Enter the question number (1–9) for which you want the answer:  10\n"
     ]
    },
    {
     "name": "stdout",
     "output_type": "stream",
     "text": [
      "Invalid input! Please enter a number between 1 and 9.\n",
      "CPU times: total: 266 ms\n",
      "Wall time: 29.9 s\n"
     ]
    }
   ],
   "source": [
    "%%time\n",
    "# 1\n",
    "def q1():\n",
    "    result = df['neighbourhood_group'].value_counts().idxmax()\n",
    "    print(f\"Neighbourhood group with maximum properties listed: {result}\")\n",
    "# 2\n",
    "def q2():\n",
    "    result = df['host_name'].value_counts().idxmax()\n",
    "    print(f\"Host with maximum properties listed: {result}\")\n",
    "# 3\n",
    "def q3():\n",
    "    top_group = df['neighbourhood_group'].value_counts().idxmax()\n",
    "    subset = df[df['neighbourhood_group'] == top_group]\n",
    "    result = subset['host_name'].value_counts().idxmax()\n",
    "    print(f\"Host with max properties in top neighbourhood group ({top_group}): {result}\")\n",
    "# 4\n",
    "def q4():\n",
    "    avg_price = df['price'].mean()\n",
    "    print(f\"Average price of listed properties: ${avg_price:.2f}\")\n",
    "# 5\n",
    "def q5():\n",
    "    print(\"Reasons for high prices in top neighbourhood groups could be:\\n\"\n",
    "          \"- Prime location\\n\"\n",
    "          \"- Tourist attractions\\n\"\n",
    "          \"- High demand\\n\"\n",
    "          \"- Better infrastructure\\n\"\n",
    "          \"- Premium listings\")\n",
    "# 6\n",
    "def q6():\n",
    "    result = df.groupby('neighbourhood_group')['room_type'].agg(lambda x: x.value_counts().idxmax())\n",
    "    print(\"Most preferred room type in each neighbourhood group:\\n\", result)\n",
    "# 7\n",
    "def q7():\n",
    "    result = df.groupby('room_type')['availability_365'].sum()\n",
    "    print(\"Total availability of properties by room type:\\n\", result)\n",
    "# 8\n",
    "def q8():\n",
    "    busiest = df.groupby('host_name')['number_of_reviews'].sum().idxmax()\n",
    "    print(f\"Busiest host (most total reviews): {busiest}\")\n",
    "# 9\n",
    "def q9():\n",
    "    max_review = df['number_of_reviews'].idxmax()\n",
    "    property_info = df.loc[max_review]\n",
    "    print(\"Property with maximum reviews:\")\n",
    "    print(property_info[['name', 'host_name', 'neighbourhood_group', 'number_of_reviews']])\n",
    "\n",
    "\n",
    "question_map = {\n",
    "    1: q1,\n",
    "    2: q2,\n",
    "    3: q3,\n",
    "    4: q4,\n",
    "    5: q5,\n",
    "    6: q6,\n",
    "    7: q7,\n",
    "    8: q8,\n",
    "    9: q9\n",
    "}\n",
    "\n",
    "# Input from user\n",
    "q_num = int(input(\"Enter the question number (1–9) for which you want the answer: \"))\n",
    "\n",
    "# Run corresponding function\n",
    "if q_num in question_map:\n",
    "    question_map[q_num]()\n",
    "else:\n",
    "    print(\"Invalid input! Please enter a number between 1 and 9.\")\n"
   ]
  },
  {
   "cell_type": "code",
   "execution_count": 18,
   "id": "e971e209-3b63-49c0-af3e-8e8e75a617a5",
   "metadata": {},
   "outputs": [
    {
     "name": "stdout",
     "output_type": "stream",
     "text": [
      "\n",
      "Choose an analysis question:\n",
      "1. Count of reviews per month\n",
      "2. Show total room types\n",
      "3. Total number of shared rooms, private rooms, entire home/apt\n",
      "4. Create a slicer for dates to show last reviewed information\n",
      "5. Prices for each neighborhood group\n",
      "6. Table for host count per neighborhood group\n",
      "0. Exit\n"
     ]
    },
    {
     "name": "stdin",
     "output_type": "stream",
     "text": [
      "Enter your choice (0 to exit):  1\n"
     ]
    },
    {
     "data": {
      "image/png": "[encoded data removed]",
      "text/plain": [
       "<Figure size 1200x600 with 1 Axes>"
      ]
     },
     "metadata": {},
     "output_type": "display_data"
    },
    {
     "name": "stdout",
     "output_type": "stream",
     "text": [
      "\n",
      "Choose an analysis question:\n",
      "1. Count of reviews per month\n",
      "2. Show total room types\n",
      "3. Total number of shared rooms, private rooms, entire home/apt\n",
      "4. Create a slicer for dates to show last reviewed information\n",
      "5. Prices for each neighborhood group\n",
      "6. Table for host count per neighborhood group\n",
      "0. Exit\n"
     ]
    },
    {
     "name": "stdin",
     "output_type": "stream",
     "text": [
      "Enter your choice (0 to exit):  0\n"
     ]
    },
    {
     "name": "stdout",
     "output_type": "stream",
     "text": [
      "Exiting...\n"
     ]
    }
   ],
   "source": [
    "import pandas as pd\n",
    "import matplotlib.pyplot as plt\n",
    "import seaborn as sns\n",
    "\n",
    "# Load your dataset here\n",
    "# df = pd.read_csv('your_dataset.csv')\n",
    "\n",
    "def show_menu():\n",
    "    print(\"\\nChoose an analysis question:\")\n",
    "    print(\"1. Count of reviews per month\")\n",
    "    print(\"2. Show total room types\")\n",
    "    print(\"3. Total number of shared rooms, private rooms, entire home/apt\")\n",
    "    print(\"4. Create a slicer for dates to show last reviewed information\")\n",
    "    print(\"5. Prices for each neighborhood group\")\n",
    "    print(\"6. Table for host count per neighborhood group\")\n",
    "    print(\"0. Exit\")\n",
    "\n",
    "def reviews_per_month_plot():\n",
    "    sns.set(style=\"whitegrid\")\n",
    "    bins = [0, 0.1, 0.5, 1, 2, 3, 5, 10, df['reviews_per_month'].max()]\n",
    "    labels = ['0-0.1', '0.1-0.5', '0.5-1', '1-2', '2-3', '3-5', '5-10', '10+']\n",
    "    df['reviews_per_month_bin'] = pd.cut(df['reviews_per_month'], bins=bins, labels=labels, include_lowest=True)\n",
    "    plt.figure(figsize=(12, 6))\n",
    "    sns.countplot(x='reviews_per_month_bin', data=df, palette='Blues_d')\n",
    "    plt.title(\"Distribution of Reviews per Month\", fontsize=16)\n",
    "    plt.xlabel(\"Reviews per Month Range\", fontsize=12)\n",
    "    plt.ylabel(\"Number of Properties\", fontsize=12)\n",
    "    plt.xticks(rotation=45)\n",
    "    plt.tight_layout()\n",
    "    plt.show()\n",
    "     \n",
    "def total_room_types():\n",
    "    print(\"\\nRoom types and their counts:\")\n",
    "    print(df['room_type'].value_counts())\n",
    "\n",
    "def room_type_counts_plot():\n",
    "    room_counts = df['room_type'].value_counts()\n",
    "    room_counts.plot(kind='bar', figsize=(7,4), color=['red', 'green', 'blue'])\n",
    "    plt.title(\"Total Room Type Distribution\")\n",
    "    plt.xlabel(\"Room Type\")\n",
    "    plt.ylabel(\"Count\")\n",
    "    plt.show()\n",
    "\n",
    "def slicer_last_review():\n",
    "    date_input = input(\"Enter a date (YYYY-MM-DD) to filter last reviewed data after that: \")\n",
    "    filtered = df[df['last_review'] >= date_input]\n",
    "    print(f\"\\nTotal properties reviewed after {date_input}: {len(filtered)}\")\n",
    "    display(filtered[['name', 'last_review', 'neighbourhood_group']].head())\n",
    "\n",
    "def neighborhood_price():\n",
    "    avg_price = df.groupby('neighbourhood_group')['price'].mean().sort_values(ascending=False)\n",
    "    avg_price.plot(kind='bar', color='orange', figsize=(10,5))\n",
    "    plt.title(\"Average Price by Neighbourhood Group\")\n",
    "    plt.ylabel(\"Average Price\")\n",
    "    plt.xlabel(\"Neighbourhood Group\")\n",
    "    plt.show()\n",
    "\n",
    "def host_neighbourhood_table():\n",
    "    table = df.groupby(['host_name', 'neighbourhood_group']).size().unstack(fill_value=0)\n",
    "    print(table.head())\n",
    "\n",
    "# Main loop\n",
    "while True:\n",
    "    show_menu()\n",
    "    choice = input(\"Enter your choice (0 to exit): \")\n",
    "    \n",
    "    if choice == '1':\n",
    "        reviews_per_month_plot()\n",
    "    elif choice == '2':\n",
    "        total_room_types()\n",
    "    elif choice == '3':\n",
    "        room_type_counts_plot()\n",
    "    elif choice == '4':\n",
    "        slicer_last_review()\n",
    "    elif choice == '5':\n",
    "        neighborhood_price()\n",
    "    elif choice == '6':\n",
    "        host_neighbourhood_table()\n",
    "    elif choice == '0':\n",
    "        print(\"Exiting...\")\n",
    "        break\n",
    "    else:\n",
    "        print(\"Invalid input. Please try again.\")\n"
   ]
  },
  {
   "cell_type": "code",
   "execution_count": null,
   "id": "3ddb107d-c8f9-439d-918a-3eeab5462cf6",
   "metadata": {},
   "outputs": [],
   "source": []
  }
 ],
 "metadata": {
  "kernelspec": {
   "display_name": "Python 3 (ipykernel)",
   "language": "python",
   "name": "python3"
  },
  "language_info": {
   "codemirror_mode": {
    "name": "ipython",
    "version": 3
   },
   "file_extension": ".py",
   "mimetype": "text/x-python",
   "name": "python",
   "nbconvert_exporter": "python",
   "pygments_lexer": "ipython3",
   "version": "3.12.3"
  }
 },
 "nbformat": 4,
 "nbformat_minor": 5
}
